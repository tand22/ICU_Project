{
 "cells": [
  {
   "cell_type": "code",
   "execution_count": null,
   "metadata": {},
   "outputs": [],
   "source": [
    "import torch\n",
    "from torch import nn\n",
    "from torch.utils.data import TensorDataset, DataLoader\n",
    "import matplotlib.pyplot as plt\n",
    "\n",
    "import os, sys\n",
    "module_path = os.path.abspath(os.path.join('..'))\n",
    "if module_path not in sys.path:\n",
    "    sys.path.append(module_path)\n",
    "from imv_lstm import IMVFullLSTM\n",
    "from descriptors import descriptors"
   ]
  },
  {
   "cell_type": "code",
   "execution_count": null,
   "metadata": {},
   "outputs": [],
   "source": [
    "# Load and process data\n",
    "def load_dataset():\n",
    "\tY = []\n",
    "\tX = []\n",
    "\t\n",
    "\twith open(\"icu-mortality-data/outcomes.csv\", \"r\") as y_file:\n",
    "\t\tnext(y_file)\n",
    "\t\tfor line in y_file:\n",
    "\t\t\ty_values = line.split(',')\n",
    "\t\t\tx_name, fatality = y_values[0], int(y_values[5])\n",
    "\n",
    "\t\t\tY.append(fatality)\n",
    "\t\t\tX_example = torch.zeros((48, len(descriptors)))\n",
    "\t\t\twith open(\"icu-mortality-data/\" + x_name + \".txt\", \"r\") as x_file:\n",
    "\t\t\t\tnext(x_file)\n",
    "\t\t\t\tnext(x_file)\n",
    "\n",
    "\t\t\t\tfor line2 in x_file:\n",
    "\t\t\t\t\ttry:\n",
    "\t\t\t\t\t\tx_values = line2.split(',')\n",
    "\t\t\t\t\t\thour = int(x_values[0][1])\n",
    "\t\t\t\t\t\tdescriptor = x_values[1]\n",
    "\t\t\t\t\t\tvalue = float(x_values[2].strip('\\n'))\n",
    "\n",
    "\t\t\t\t\t\tX_example[hour][descriptors.index(descriptor)] = value\n",
    "\t\t\t\t\texcept ValueError:\n",
    "\t\t\t\t\t\t# Invalid descriptor\n",
    "\t\t\t\t\t\tcontinue\n",
    "\t\t\tX.append(X_example)\n",
    "\treturn torch.stack(X), torch.FloatTensor(Y)\n",
    "\n",
    "X, Y = load_dataset()"
   ]
  },
  {
   "cell_type": "code",
   "execution_count": null,
   "metadata": {},
   "outputs": [],
   "source": [
    "# Split data into respective groups\n",
    "X_train, Y_train = X[0:3900], Y[0:3900]\n",
    "X_test, Y_test = X[3900:4000], Y[3900:4000]\n",
    "train_loader = DataLoader(TensorDataset(X_train, Y_train), batch_size=64, shuffle=True)\n",
    "\n",
    "# Define model\n",
    "device = torch.device(\"cuda\")\n",
    "model = IMVFullLSTM(device, X.shape[2], 1, 128).to(device)\n",
    "opt = torch.optim.Adam(model.parameters(), lr=0.001)\n",
    "loss = nn.BCEWithLogitsLoss()\n",
    "epoch_scheduler = torch.optim.lr_scheduler.StepLR(opt, 20, gamma=0.9)"
   ]
  },
  {
   "cell_type": "code",
   "execution_count": null,
   "metadata": {},
   "outputs": [],
   "source": [
    "# Perform training\n",
    "epochs = 50\n",
    "for i in range(epochs):\n",
    "    mse_train = 0\n",
    "    for batch_x, batch_y in train_loader:\n",
    "        batch_x = batch_x.cuda()\n",
    "        batch_y = batch_y.cuda()\n",
    "        opt.zero_grad()\n",
    "        y_pred, alphas, betas = model(batch_x)\n",
    "        y_pred = y_pred.squeeze(1)\n",
    "        l = loss(y_pred, batch_y)\n",
    "        l.backward()\n",
    "        mse_train += l.item()*batch_x.shape[0]\n",
    "        opt.step()\n",
    "    print(\"Epoch \" + str(i) + \" complete, loss: \" + str(l.item()))\n",
    "    epoch_scheduler.step()\n",
    "    \n",
    "print(\"Saving...\")\n",
    "torch.save(model.state_dict(), \"out/model_weights.pt\")"
   ]
  },
  {
   "cell_type": "code",
   "execution_count": null,
   "metadata": {},
   "outputs": [],
   "source": [
    "# Reload model using the CPU\n",
    "device = torch.device(\"cpu\")\n",
    "model = IMVFullLSTM(device, X.shape[2], 1, 128).to(device)\n",
    "model.load_state_dict(torch.load(\"../model_weights.pt\", map_location=device))"
   ]
  },
  {
   "cell_type": "code",
   "execution_count": null,
   "metadata": {},
   "outputs": [],
   "source": [
    "# Perform CPU Inference\n",
    "index = 98\n",
    "test_x = torch.unsqueeze(X_test[index], dim=0)\n",
    "with torch.no_grad():\n",
    "    output, a, b = model(test_x)\n",
    "    \n",
    "output = output.detach()\n",
    "print(output)\n",
    "print(torch.sigmoid(output))\n",
    "print(Y_test[index])\n",
    "# print(test_x[0, :, descriptors.index(\"HR\")])\n",
    "\n",
    "a = torch.squeeze(a).cpu().T\n",
    "b = torch.squeeze(b).cpu()"
   ]
  },
  {
   "cell_type": "code",
   "execution_count": null,
   "metadata": {},
   "outputs": [],
   "source": [
    "fig, ax = plt.subplots(figsize=(20, 20))\n",
    "im = ax.imshow(a)\n",
    "ax.set_xticks(torch.arange(test_x.shape[1]))\n",
    "ax.set_yticks(torch.arange(len(descriptors)))\n",
    "ax.set_xticklabels([i.item() for i in torch.arange(1, test_x.shape[1]+1)])\n",
    "ax.set_yticklabels(descriptors)\n",
    "ax.set_title(\"Importance of features and timesteps\")\n",
    "plt.show()"
   ]
  },
  {
   "cell_type": "code",
   "execution_count": null,
   "metadata": {},
   "outputs": [],
   "source": [
    "plt.figure(figsize=(20, 20))\n",
    "plt.title(\"Feature importance\")\n",
    "plt.bar(range(len(descriptors)), b)\n",
    "plt.xticks(ticks=range(len(descriptors)), labels=descriptors, rotation=90)"
   ]
  }
 ],
 "metadata": {
  "kernelspec": {
   "display_name": "Python 3.8.10 64-bit",
   "language": "python",
   "name": "python3"
  },
  "language_info": {
   "codemirror_mode": {
    "name": "ipython",
    "version": 3
   },
   "file_extension": ".py",
   "mimetype": "text/x-python",
   "name": "python",
   "nbconvert_exporter": "python",
   "pygments_lexer": "ipython3",
   "version": "3.8.10"
  },
  "orig_nbformat": 4,
  "vscode": {
   "interpreter": {
    "hash": "31f2aee4e71d21fbe5cf8b01ff0e069b9275f58929596ceb00d14d90e3e16cd6"
   }
  }
 },
 "nbformat": 4,
 "nbformat_minor": 2
}
